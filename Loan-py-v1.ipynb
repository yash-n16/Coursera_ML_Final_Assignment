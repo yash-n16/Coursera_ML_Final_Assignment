{
 "cells": [
  {
   "cell_type": "markdown",
   "metadata": {
    "button": false,
    "new_sheet": false,
    "run_control": {
     "read_only": false
    }
   },
   "source": [
    "<p style=\"text-align:center\">\n",
    "    <a href=\"https://skills.network/?utm_medium=Exinfluencer&utm_source=Exinfluencer&utm_content=000026UJ&utm_term=10006555&utm_id=NA-SkillsNetwork-Channel-SkillsNetworkCoursesIBMDeveloperSkillsNetworkML0101ENSkillsNetwork20718538-2022-01-01\" target=\"_blank\">\n",
    "    <img src=\"https://cf-courses-data.s3.us.cloud-object-storage.appdomain.cloud/assets/logos/SN_web_lightmode.png\" width=\"200\" alt=\"Skills Network Logo\"  />\n",
    "    </a>\n",
    "</p>\n",
    "\n",
    "<h1 align=\"center\"><font size=\"5\">Classification with Python</font></h1>\n"
   ]
  },
  {
   "cell_type": "markdown",
   "metadata": {
    "button": false,
    "new_sheet": false,
    "run_control": {
     "read_only": false
    }
   },
   "source": [
    "In this notebook we try to practice all the classification algorithms that we have learned in this course.\n",
    "\n",
    "We load a dataset using Pandas library, and apply the following algorithms, and find the best one for this specific dataset by accuracy evaluation methods.\n",
    "\n",
    "Let's first load required libraries:\n"
   ]
  },
  {
   "cell_type": "code",
   "execution_count": 1,
   "metadata": {
    "button": false,
    "new_sheet": false,
    "run_control": {
     "read_only": false
    }
   },
   "outputs": [
    {
     "name": "stderr",
     "output_type": "stream",
     "text": [
      "/home/jupyterlab/conda/envs/python/lib/python3.7/site-packages/sklearn/utils/validation.py:37: DeprecationWarning: distutils Version classes are deprecated. Use packaging.version instead.\n",
      "  LARGE_SPARSE_SUPPORTED = LooseVersion(scipy_version) >= '0.14.0'\n"
     ]
    }
   ],
   "source": [
    "import itertools\n",
    "import numpy as np\n",
    "import matplotlib.pyplot as plt\n",
    "from matplotlib.ticker import NullFormatter\n",
    "import pandas as pd\n",
    "import numpy as np\n",
    "import matplotlib.ticker as ticker\n",
    "from sklearn import preprocessing\n",
    "%matplotlib inline"
   ]
  },
  {
   "cell_type": "code",
   "execution_count": 2,
   "metadata": {},
   "outputs": [],
   "source": [
    "#notice: Disable all warnings \n",
    "import warnings\n",
    "warnings.filterwarnings('ignore')"
   ]
  },
  {
   "cell_type": "markdown",
   "metadata": {
    "button": false,
    "new_sheet": false,
    "run_control": {
     "read_only": false
    }
   },
   "source": [
    "### About dataset\n"
   ]
  },
  {
   "cell_type": "markdown",
   "metadata": {
    "button": false,
    "new_sheet": false,
    "run_control": {
     "read_only": false
    }
   },
   "source": [
    "This dataset is about past loans. The **Loan_train.csv** data set includes details of 346 customers whose loan are already paid off or defaulted. It includes following fields:\n",
    "\n",
    "| Field          | Description                                                                           |\n",
    "| -------------- | ------------------------------------------------------------------------------------- |\n",
    "| Loan_status    | Whether a loan is paid off on in collection                                           |\n",
    "| Principal      | Basic principal loan amount at the                                                    |\n",
    "| Terms          | Origination terms which can be weekly (7 days), biweekly, and monthly payoff schedule |\n",
    "| Effective_date | When the loan got originated and took effects                                         |\n",
    "| Due_date       | Since it’s one-time payoff schedule, each loan has one single due date                |\n",
    "| Age            | Age of applicant                                                                      |\n",
    "| Education      | Education of applicant                                                                |\n",
    "| Gender         | The gender of applicant                                                               |\n"
   ]
  },
  {
   "cell_type": "markdown",
   "metadata": {
    "button": false,
    "new_sheet": false,
    "run_control": {
     "read_only": false
    }
   },
   "source": [
    "Let's download the dataset\n"
   ]
  },
  {
   "cell_type": "code",
   "execution_count": 3,
   "metadata": {
    "button": false,
    "new_sheet": false,
    "run_control": {
     "read_only": false
    }
   },
   "outputs": [
    {
     "name": "stdout",
     "output_type": "stream",
     "text": [
      "--2022-09-19 09:10:35--  https://cf-courses-data.s3.us.cloud-object-storage.appdomain.cloud/IBMDeveloperSkillsNetwork-ML0101EN-SkillsNetwork/labs/FinalModule_Coursera/data/loan_train.csv\n",
      "Resolving cf-courses-data.s3.us.cloud-object-storage.appdomain.cloud (cf-courses-data.s3.us.cloud-object-storage.appdomain.cloud)... 169.63.118.104\n",
      "Connecting to cf-courses-data.s3.us.cloud-object-storage.appdomain.cloud (cf-courses-data.s3.us.cloud-object-storage.appdomain.cloud)|169.63.118.104|:443... connected.\n",
      "HTTP request sent, awaiting response... 200 OK\n",
      "Length: 23101 (23K) [text/csv]\n",
      "Saving to: ‘loan_train.csv’\n",
      "\n",
      "loan_train.csv      100%[===================>]  22.56K  --.-KB/s    in 0s      \n",
      "\n",
      "2022-09-19 09:10:35 (62.2 MB/s) - ‘loan_train.csv’ saved [23101/23101]\n",
      "\n"
     ]
    }
   ],
   "source": [
    "!wget -O loan_train.csv https://cf-courses-data.s3.us.cloud-object-storage.appdomain.cloud/IBMDeveloperSkillsNetwork-ML0101EN-SkillsNetwork/labs/FinalModule_Coursera/data/loan_train.csv"
   ]
  },
  {
   "cell_type": "markdown",
   "metadata": {
    "button": false,
    "new_sheet": false,
    "run_control": {
     "read_only": false
    }
   },
   "source": [
    "### Load Data From CSV File\n"
   ]
  },
  {
   "cell_type": "code",
   "execution_count": 4,
   "metadata": {
    "button": false,
    "new_sheet": false,
    "run_control": {
     "read_only": false
    }
   },
   "outputs": [
    {
     "data": {
      "text/html": [
       "<div>\n",
       "<style scoped>\n",
       "    .dataframe tbody tr th:only-of-type {\n",
       "        vertical-align: middle;\n",
       "    }\n",
       "\n",
       "    .dataframe tbody tr th {\n",
       "        vertical-align: top;\n",
       "    }\n",
       "\n",
       "    .dataframe thead th {\n",
       "        text-align: right;\n",
       "    }\n",
       "</style>\n",
       "<table border=\"1\" class=\"dataframe\">\n",
       "  <thead>\n",
       "    <tr style=\"text-align: right;\">\n",
       "      <th></th>\n",
       "      <th>Unnamed: 0</th>\n",
       "      <th>Unnamed: 0.1</th>\n",
       "      <th>loan_status</th>\n",
       "      <th>Principal</th>\n",
       "      <th>terms</th>\n",
       "      <th>effective_date</th>\n",
       "      <th>due_date</th>\n",
       "      <th>age</th>\n",
       "      <th>education</th>\n",
       "      <th>Gender</th>\n",
       "    </tr>\n",
       "  </thead>\n",
       "  <tbody>\n",
       "    <tr>\n",
       "      <th>0</th>\n",
       "      <td>0</td>\n",
       "      <td>0</td>\n",
       "      <td>PAIDOFF</td>\n",
       "      <td>1000</td>\n",
       "      <td>30</td>\n",
       "      <td>9/8/2016</td>\n",
       "      <td>10/7/2016</td>\n",
       "      <td>45</td>\n",
       "      <td>High School or Below</td>\n",
       "      <td>male</td>\n",
       "    </tr>\n",
       "    <tr>\n",
       "      <th>1</th>\n",
       "      <td>2</td>\n",
       "      <td>2</td>\n",
       "      <td>PAIDOFF</td>\n",
       "      <td>1000</td>\n",
       "      <td>30</td>\n",
       "      <td>9/8/2016</td>\n",
       "      <td>10/7/2016</td>\n",
       "      <td>33</td>\n",
       "      <td>Bechalor</td>\n",
       "      <td>female</td>\n",
       "    </tr>\n",
       "    <tr>\n",
       "      <th>2</th>\n",
       "      <td>3</td>\n",
       "      <td>3</td>\n",
       "      <td>PAIDOFF</td>\n",
       "      <td>1000</td>\n",
       "      <td>15</td>\n",
       "      <td>9/8/2016</td>\n",
       "      <td>9/22/2016</td>\n",
       "      <td>27</td>\n",
       "      <td>college</td>\n",
       "      <td>male</td>\n",
       "    </tr>\n",
       "    <tr>\n",
       "      <th>3</th>\n",
       "      <td>4</td>\n",
       "      <td>4</td>\n",
       "      <td>PAIDOFF</td>\n",
       "      <td>1000</td>\n",
       "      <td>30</td>\n",
       "      <td>9/9/2016</td>\n",
       "      <td>10/8/2016</td>\n",
       "      <td>28</td>\n",
       "      <td>college</td>\n",
       "      <td>female</td>\n",
       "    </tr>\n",
       "    <tr>\n",
       "      <th>4</th>\n",
       "      <td>6</td>\n",
       "      <td>6</td>\n",
       "      <td>PAIDOFF</td>\n",
       "      <td>1000</td>\n",
       "      <td>30</td>\n",
       "      <td>9/9/2016</td>\n",
       "      <td>10/8/2016</td>\n",
       "      <td>29</td>\n",
       "      <td>college</td>\n",
       "      <td>male</td>\n",
       "    </tr>\n",
       "  </tbody>\n",
       "</table>\n",
       "</div>"
      ],
      "text/plain": [
       "   Unnamed: 0  Unnamed: 0.1 loan_status  Principal  terms effective_date  \\\n",
       "0           0             0     PAIDOFF       1000     30       9/8/2016   \n",
       "1           2             2     PAIDOFF       1000     30       9/8/2016   \n",
       "2           3             3     PAIDOFF       1000     15       9/8/2016   \n",
       "3           4             4     PAIDOFF       1000     30       9/9/2016   \n",
       "4           6             6     PAIDOFF       1000     30       9/9/2016   \n",
       "\n",
       "    due_date  age             education  Gender  \n",
       "0  10/7/2016   45  High School or Below    male  \n",
       "1  10/7/2016   33              Bechalor  female  \n",
       "2  9/22/2016   27               college    male  \n",
       "3  10/8/2016   28               college  female  \n",
       "4  10/8/2016   29               college    male  "
      ]
     },
     "execution_count": 4,
     "metadata": {},
     "output_type": "execute_result"
    }
   ],
   "source": [
    "df = pd.read_csv('loan_train.csv')\n",
    "df.head()"
   ]
  },
  {
   "cell_type": "code",
   "execution_count": 5,
   "metadata": {},
   "outputs": [
    {
     "data": {
      "text/plain": [
       "(346, 10)"
      ]
     },
     "execution_count": 5,
     "metadata": {},
     "output_type": "execute_result"
    }
   ],
   "source": [
    "df.shape"
   ]
  },
  {
   "cell_type": "markdown",
   "metadata": {
    "button": false,
    "new_sheet": false,
    "run_control": {
     "read_only": false
    }
   },
   "source": [
    "### Convert to date time object\n"
   ]
  },
  {
   "cell_type": "code",
   "execution_count": 6,
   "metadata": {
    "button": false,
    "new_sheet": false,
    "run_control": {
     "read_only": false
    }
   },
   "outputs": [
    {
     "data": {
      "text/html": [
       "<div>\n",
       "<style scoped>\n",
       "    .dataframe tbody tr th:only-of-type {\n",
       "        vertical-align: middle;\n",
       "    }\n",
       "\n",
       "    .dataframe tbody tr th {\n",
       "        vertical-align: top;\n",
       "    }\n",
       "\n",
       "    .dataframe thead th {\n",
       "        text-align: right;\n",
       "    }\n",
       "</style>\n",
       "<table border=\"1\" class=\"dataframe\">\n",
       "  <thead>\n",
       "    <tr style=\"text-align: right;\">\n",
       "      <th></th>\n",
       "      <th>Unnamed: 0</th>\n",
       "      <th>Unnamed: 0.1</th>\n",
       "      <th>loan_status</th>\n",
       "      <th>Principal</th>\n",
       "      <th>terms</th>\n",
       "      <th>effective_date</th>\n",
       "      <th>due_date</th>\n",
       "      <th>age</th>\n",
       "      <th>education</th>\n",
       "      <th>Gender</th>\n",
       "    </tr>\n",
       "  </thead>\n",
       "  <tbody>\n",
       "    <tr>\n",
       "      <th>0</th>\n",
       "      <td>0</td>\n",
       "      <td>0</td>\n",
       "      <td>PAIDOFF</td>\n",
       "      <td>1000</td>\n",
       "      <td>30</td>\n",
       "      <td>2016-09-08</td>\n",
       "      <td>2016-10-07</td>\n",
       "      <td>45</td>\n",
       "      <td>High School or Below</td>\n",
       "      <td>male</td>\n",
       "    </tr>\n",
       "    <tr>\n",
       "      <th>1</th>\n",
       "      <td>2</td>\n",
       "      <td>2</td>\n",
       "      <td>PAIDOFF</td>\n",
       "      <td>1000</td>\n",
       "      <td>30</td>\n",
       "      <td>2016-09-08</td>\n",
       "      <td>2016-10-07</td>\n",
       "      <td>33</td>\n",
       "      <td>Bechalor</td>\n",
       "      <td>female</td>\n",
       "    </tr>\n",
       "    <tr>\n",
       "      <th>2</th>\n",
       "      <td>3</td>\n",
       "      <td>3</td>\n",
       "      <td>PAIDOFF</td>\n",
       "      <td>1000</td>\n",
       "      <td>15</td>\n",
       "      <td>2016-09-08</td>\n",
       "      <td>2016-09-22</td>\n",
       "      <td>27</td>\n",
       "      <td>college</td>\n",
       "      <td>male</td>\n",
       "    </tr>\n",
       "    <tr>\n",
       "      <th>3</th>\n",
       "      <td>4</td>\n",
       "      <td>4</td>\n",
       "      <td>PAIDOFF</td>\n",
       "      <td>1000</td>\n",
       "      <td>30</td>\n",
       "      <td>2016-09-09</td>\n",
       "      <td>2016-10-08</td>\n",
       "      <td>28</td>\n",
       "      <td>college</td>\n",
       "      <td>female</td>\n",
       "    </tr>\n",
       "    <tr>\n",
       "      <th>4</th>\n",
       "      <td>6</td>\n",
       "      <td>6</td>\n",
       "      <td>PAIDOFF</td>\n",
       "      <td>1000</td>\n",
       "      <td>30</td>\n",
       "      <td>2016-09-09</td>\n",
       "      <td>2016-10-08</td>\n",
       "      <td>29</td>\n",
       "      <td>college</td>\n",
       "      <td>male</td>\n",
       "    </tr>\n",
       "  </tbody>\n",
       "</table>\n",
       "</div>"
      ],
      "text/plain": [
       "   Unnamed: 0  Unnamed: 0.1 loan_status  Principal  terms effective_date  \\\n",
       "0           0             0     PAIDOFF       1000     30     2016-09-08   \n",
       "1           2             2     PAIDOFF       1000     30     2016-09-08   \n",
       "2           3             3     PAIDOFF       1000     15     2016-09-08   \n",
       "3           4             4     PAIDOFF       1000     30     2016-09-09   \n",
       "4           6             6     PAIDOFF       1000     30     2016-09-09   \n",
       "\n",
       "    due_date  age             education  Gender  \n",
       "0 2016-10-07   45  High School or Below    male  \n",
       "1 2016-10-07   33              Bechalor  female  \n",
       "2 2016-09-22   27               college    male  \n",
       "3 2016-10-08   28               college  female  \n",
       "4 2016-10-08   29               college    male  "
      ]
     },
     "execution_count": 6,
     "metadata": {},
     "output_type": "execute_result"
    }
   ],
   "source": [
    "df['due_date'] = pd.to_datetime(df['due_date'])\n",
    "df['effective_date'] = pd.to_datetime(df['effective_date'])\n",
    "df.head()"
   ]
  },
  {
   "cell_type": "markdown",
   "metadata": {
    "button": false,
    "new_sheet": false,
    "run_control": {
     "read_only": false
    }
   },
   "source": [
    "# Data visualization and pre-processing\n"
   ]
  },
  {
   "cell_type": "markdown",
   "metadata": {
    "button": false,
    "new_sheet": false,
    "run_control": {
     "read_only": false
    }
   },
   "source": [
    "Let’s see how many of each class is in our data set\n"
   ]
  },
  {
   "cell_type": "code",
   "execution_count": 7,
   "metadata": {
    "button": false,
    "new_sheet": false,
    "run_control": {
     "read_only": false
    }
   },
   "outputs": [
    {
     "data": {
      "text/plain": [
       "PAIDOFF       260\n",
       "COLLECTION     86\n",
       "Name: loan_status, dtype: int64"
      ]
     },
     "execution_count": 7,
     "metadata": {},
     "output_type": "execute_result"
    }
   ],
   "source": [
    "df['loan_status'].value_counts()"
   ]
  },
  {
   "cell_type": "markdown",
   "metadata": {
    "button": false,
    "new_sheet": false,
    "run_control": {
     "read_only": false
    }
   },
   "source": [
    "260 people have paid off the loan on time while 86 have gone into collection\n"
   ]
  },
  {
   "cell_type": "markdown",
   "metadata": {},
   "source": [
    "Let's plot some columns to underestand data better:\n"
   ]
  },
  {
   "cell_type": "code",
   "execution_count": 8,
   "metadata": {},
   "outputs": [
    {
     "name": "stdout",
     "output_type": "stream",
     "text": [
      "Requirement already satisfied: seaborn in /home/jupyterlab/conda/envs/python/lib/python3.7/site-packages (0.9.0)\n",
      "Requirement already satisfied: scipy>=0.14.0 in /home/jupyterlab/conda/envs/python/lib/python3.7/site-packages (from seaborn) (1.7.3)\n",
      "Requirement already satisfied: pandas>=0.15.2 in /home/jupyterlab/conda/envs/python/lib/python3.7/site-packages (from seaborn) (1.3.5)\n",
      "Requirement already satisfied: matplotlib>=1.4.3 in /home/jupyterlab/conda/envs/python/lib/python3.7/site-packages (from seaborn) (3.5.3)\n",
      "Requirement already satisfied: numpy>=1.9.3 in /home/jupyterlab/conda/envs/python/lib/python3.7/site-packages (from seaborn) (1.21.6)\n",
      "Requirement already satisfied: python-dateutil>=2.7 in /home/jupyterlab/conda/envs/python/lib/python3.7/site-packages (from matplotlib>=1.4.3->seaborn) (2.8.2)\n",
      "Requirement already satisfied: cycler>=0.10 in /home/jupyterlab/conda/envs/python/lib/python3.7/site-packages (from matplotlib>=1.4.3->seaborn) (0.11.0)\n",
      "Requirement already satisfied: packaging>=20.0 in /home/jupyterlab/conda/envs/python/lib/python3.7/site-packages (from matplotlib>=1.4.3->seaborn) (21.3)\n",
      "Requirement already satisfied: pyparsing>=2.2.1 in /home/jupyterlab/conda/envs/python/lib/python3.7/site-packages (from matplotlib>=1.4.3->seaborn) (3.0.9)\n",
      "Requirement already satisfied: pillow>=6.2.0 in /home/jupyterlab/conda/envs/python/lib/python3.7/site-packages (from matplotlib>=1.4.3->seaborn) (8.1.0)\n",
      "Requirement already satisfied: kiwisolver>=1.0.1 in /home/jupyterlab/conda/envs/python/lib/python3.7/site-packages (from matplotlib>=1.4.3->seaborn) (1.4.4)\n",
      "Requirement already satisfied: fonttools>=4.22.0 in /home/jupyterlab/conda/envs/python/lib/python3.7/site-packages (from matplotlib>=1.4.3->seaborn) (4.37.1)\n",
      "Requirement already satisfied: pytz>=2017.3 in /home/jupyterlab/conda/envs/python/lib/python3.7/site-packages (from pandas>=0.15.2->seaborn) (2022.2.1)\n",
      "Requirement already satisfied: typing-extensions in /home/jupyterlab/conda/envs/python/lib/python3.7/site-packages (from kiwisolver>=1.0.1->matplotlib>=1.4.3->seaborn) (4.3.0)\n",
      "Requirement already satisfied: six>=1.5 in /home/jupyterlab/conda/envs/python/lib/python3.7/site-packages (from python-dateutil>=2.7->matplotlib>=1.4.3->seaborn) (1.16.0)\n"
     ]
    }
   ],
   "source": [
    "# notice: installing seaborn might takes a few minutes\n",
    "!pip install seaborn"
   ]
  },
  {
   "cell_type": "code",
   "execution_count": 9,
   "metadata": {},
   "outputs": [
    {
     "data": {
      "image/png": "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\n",
      "text/plain": [
       "<Figure size 600x300 with 2 Axes>"
      ]
     },
     "metadata": {},
     "output_type": "display_data"
    }
   ],
   "source": [
    "import seaborn as sns\n",
    "\n",
    "bins = np.linspace(df.Principal.min(), df.Principal.max(), 10)\n",
    "g = sns.FacetGrid(df, col=\"Gender\", hue=\"loan_status\", palette=\"Set1\", col_wrap=2)\n",
    "g.map(plt.hist, 'Principal', bins=bins, ec=\"k\")\n",
    "\n",
    "g.axes[-1].legend()\n",
    "plt.show()"
   ]
  },
  {
   "cell_type": "code",
   "execution_count": 10,
   "metadata": {
    "button": false,
    "new_sheet": false,
    "run_control": {
     "read_only": false
    }
   },
   "outputs": [
    {
     "data": {
      "image/png": "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\n",
      "text/plain": [
       "<Figure size 600x300 with 2 Axes>"
      ]
     },
     "metadata": {},
     "output_type": "display_data"
    }
   ],
   "source": [
    "bins = np.linspace(df.age.min(), df.age.max(), 10)\n",
    "g = sns.FacetGrid(df, col=\"Gender\", hue=\"loan_status\", palette=\"Set1\", col_wrap=2)\n",
    "g.map(plt.hist, 'age', bins=bins, ec=\"k\")\n",
    "\n",
    "g.axes[-1].legend()\n",
    "plt.show()"
   ]
  },
  {
   "cell_type": "markdown",
   "metadata": {
    "button": false,
    "new_sheet": false,
    "run_control": {
     "read_only": false
    }
   },
   "source": [
    "# Pre-processing:  Feature selection/extraction\n"
   ]
  },
  {
   "cell_type": "markdown",
   "metadata": {
    "button": false,
    "new_sheet": false,
    "run_control": {
     "read_only": false
    }
   },
   "source": [
    "### Let's look at the day of the week people get the loan\n"
   ]
  },
  {
   "cell_type": "code",
   "execution_count": 11,
   "metadata": {
    "button": false,
    "new_sheet": false,
    "run_control": {
     "read_only": false
    }
   },
   "outputs": [
    {
     "data": {
      "image/png": "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\n",
      "text/plain": [
       "<Figure size 600x300 with 2 Axes>"
      ]
     },
     "metadata": {},
     "output_type": "display_data"
    }
   ],
   "source": [
    "df['dayofweek'] = df['effective_date'].dt.dayofweek\n",
    "bins = np.linspace(df.dayofweek.min(), df.dayofweek.max(), 10)\n",
    "g = sns.FacetGrid(df, col=\"Gender\", hue=\"loan_status\", palette=\"Set1\", col_wrap=2)\n",
    "g.map(plt.hist, 'dayofweek', bins=bins, ec=\"k\")\n",
    "g.axes[-1].legend()\n",
    "plt.show()\n"
   ]
  },
  {
   "cell_type": "markdown",
   "metadata": {
    "button": false,
    "new_sheet": false,
    "run_control": {
     "read_only": false
    }
   },
   "source": [
    "We see that people who get the loan at the end of the week don't pay it off, so let's use Feature binarization to set a threshold value less than day 4\n"
   ]
  },
  {
   "cell_type": "code",
   "execution_count": 12,
   "metadata": {
    "button": false,
    "new_sheet": false,
    "run_control": {
     "read_only": false
    }
   },
   "outputs": [
    {
     "data": {
      "text/html": [
       "<div>\n",
       "<style scoped>\n",
       "    .dataframe tbody tr th:only-of-type {\n",
       "        vertical-align: middle;\n",
       "    }\n",
       "\n",
       "    .dataframe tbody tr th {\n",
       "        vertical-align: top;\n",
       "    }\n",
       "\n",
       "    .dataframe thead th {\n",
       "        text-align: right;\n",
       "    }\n",
       "</style>\n",
       "<table border=\"1\" class=\"dataframe\">\n",
       "  <thead>\n",
       "    <tr style=\"text-align: right;\">\n",
       "      <th></th>\n",
       "      <th>Unnamed: 0</th>\n",
       "      <th>Unnamed: 0.1</th>\n",
       "      <th>loan_status</th>\n",
       "      <th>Principal</th>\n",
       "      <th>terms</th>\n",
       "      <th>effective_date</th>\n",
       "      <th>due_date</th>\n",
       "      <th>age</th>\n",
       "      <th>education</th>\n",
       "      <th>Gender</th>\n",
       "      <th>dayofweek</th>\n",
       "      <th>weekend</th>\n",
       "    </tr>\n",
       "  </thead>\n",
       "  <tbody>\n",
       "    <tr>\n",
       "      <th>0</th>\n",
       "      <td>0</td>\n",
       "      <td>0</td>\n",
       "      <td>PAIDOFF</td>\n",
       "      <td>1000</td>\n",
       "      <td>30</td>\n",
       "      <td>2016-09-08</td>\n",
       "      <td>2016-10-07</td>\n",
       "      <td>45</td>\n",
       "      <td>High School or Below</td>\n",
       "      <td>male</td>\n",
       "      <td>3</td>\n",
       "      <td>0</td>\n",
       "    </tr>\n",
       "    <tr>\n",
       "      <th>1</th>\n",
       "      <td>2</td>\n",
       "      <td>2</td>\n",
       "      <td>PAIDOFF</td>\n",
       "      <td>1000</td>\n",
       "      <td>30</td>\n",
       "      <td>2016-09-08</td>\n",
       "      <td>2016-10-07</td>\n",
       "      <td>33</td>\n",
       "      <td>Bechalor</td>\n",
       "      <td>female</td>\n",
       "      <td>3</td>\n",
       "      <td>0</td>\n",
       "    </tr>\n",
       "    <tr>\n",
       "      <th>2</th>\n",
       "      <td>3</td>\n",
       "      <td>3</td>\n",
       "      <td>PAIDOFF</td>\n",
       "      <td>1000</td>\n",
       "      <td>15</td>\n",
       "      <td>2016-09-08</td>\n",
       "      <td>2016-09-22</td>\n",
       "      <td>27</td>\n",
       "      <td>college</td>\n",
       "      <td>male</td>\n",
       "      <td>3</td>\n",
       "      <td>0</td>\n",
       "    </tr>\n",
       "    <tr>\n",
       "      <th>3</th>\n",
       "      <td>4</td>\n",
       "      <td>4</td>\n",
       "      <td>PAIDOFF</td>\n",
       "      <td>1000</td>\n",
       "      <td>30</td>\n",
       "      <td>2016-09-09</td>\n",
       "      <td>2016-10-08</td>\n",
       "      <td>28</td>\n",
       "      <td>college</td>\n",
       "      <td>female</td>\n",
       "      <td>4</td>\n",
       "      <td>1</td>\n",
       "    </tr>\n",
       "    <tr>\n",
       "      <th>4</th>\n",
       "      <td>6</td>\n",
       "      <td>6</td>\n",
       "      <td>PAIDOFF</td>\n",
       "      <td>1000</td>\n",
       "      <td>30</td>\n",
       "      <td>2016-09-09</td>\n",
       "      <td>2016-10-08</td>\n",
       "      <td>29</td>\n",
       "      <td>college</td>\n",
       "      <td>male</td>\n",
       "      <td>4</td>\n",
       "      <td>1</td>\n",
       "    </tr>\n",
       "  </tbody>\n",
       "</table>\n",
       "</div>"
      ],
      "text/plain": [
       "   Unnamed: 0  Unnamed: 0.1 loan_status  Principal  terms effective_date  \\\n",
       "0           0             0     PAIDOFF       1000     30     2016-09-08   \n",
       "1           2             2     PAIDOFF       1000     30     2016-09-08   \n",
       "2           3             3     PAIDOFF       1000     15     2016-09-08   \n",
       "3           4             4     PAIDOFF       1000     30     2016-09-09   \n",
       "4           6             6     PAIDOFF       1000     30     2016-09-09   \n",
       "\n",
       "    due_date  age             education  Gender  dayofweek  weekend  \n",
       "0 2016-10-07   45  High School or Below    male          3        0  \n",
       "1 2016-10-07   33              Bechalor  female          3        0  \n",
       "2 2016-09-22   27               college    male          3        0  \n",
       "3 2016-10-08   28               college  female          4        1  \n",
       "4 2016-10-08   29               college    male          4        1  "
      ]
     },
     "execution_count": 12,
     "metadata": {},
     "output_type": "execute_result"
    }
   ],
   "source": [
    "df['weekend'] = df['dayofweek'].apply(lambda x: 1 if (x>3)  else 0)\n",
    "df.head()"
   ]
  },
  {
   "cell_type": "markdown",
   "metadata": {
    "button": false,
    "new_sheet": false,
    "run_control": {
     "read_only": false
    }
   },
   "source": [
    "## Convert Categorical features to numerical values\n"
   ]
  },
  {
   "cell_type": "markdown",
   "metadata": {
    "button": false,
    "new_sheet": false,
    "run_control": {
     "read_only": false
    }
   },
   "source": [
    "Let's look at gender:\n"
   ]
  },
  {
   "cell_type": "code",
   "execution_count": 13,
   "metadata": {
    "button": false,
    "new_sheet": false,
    "run_control": {
     "read_only": false
    }
   },
   "outputs": [
    {
     "data": {
      "text/plain": [
       "Gender  loan_status\n",
       "female  PAIDOFF        0.865385\n",
       "        COLLECTION     0.134615\n",
       "male    PAIDOFF        0.731293\n",
       "        COLLECTION     0.268707\n",
       "Name: loan_status, dtype: float64"
      ]
     },
     "execution_count": 13,
     "metadata": {},
     "output_type": "execute_result"
    }
   ],
   "source": [
    "df.groupby(['Gender'])['loan_status'].value_counts(normalize=True)"
   ]
  },
  {
   "cell_type": "markdown",
   "metadata": {
    "button": false,
    "new_sheet": false,
    "run_control": {
     "read_only": false
    }
   },
   "source": [
    "86 % of female pay there loans while only 73 % of males pay there loan\n"
   ]
  },
  {
   "cell_type": "markdown",
   "metadata": {
    "button": false,
    "new_sheet": false,
    "run_control": {
     "read_only": false
    }
   },
   "source": [
    "Let's convert male to 0 and female to 1:\n"
   ]
  },
  {
   "cell_type": "code",
   "execution_count": 14,
   "metadata": {
    "button": false,
    "new_sheet": false,
    "run_control": {
     "read_only": false
    }
   },
   "outputs": [
    {
     "data": {
      "text/html": [
       "<div>\n",
       "<style scoped>\n",
       "    .dataframe tbody tr th:only-of-type {\n",
       "        vertical-align: middle;\n",
       "    }\n",
       "\n",
       "    .dataframe tbody tr th {\n",
       "        vertical-align: top;\n",
       "    }\n",
       "\n",
       "    .dataframe thead th {\n",
       "        text-align: right;\n",
       "    }\n",
       "</style>\n",
       "<table border=\"1\" class=\"dataframe\">\n",
       "  <thead>\n",
       "    <tr style=\"text-align: right;\">\n",
       "      <th></th>\n",
       "      <th>Unnamed: 0</th>\n",
       "      <th>Unnamed: 0.1</th>\n",
       "      <th>loan_status</th>\n",
       "      <th>Principal</th>\n",
       "      <th>terms</th>\n",
       "      <th>effective_date</th>\n",
       "      <th>due_date</th>\n",
       "      <th>age</th>\n",
       "      <th>education</th>\n",
       "      <th>Gender</th>\n",
       "      <th>dayofweek</th>\n",
       "      <th>weekend</th>\n",
       "    </tr>\n",
       "  </thead>\n",
       "  <tbody>\n",
       "    <tr>\n",
       "      <th>0</th>\n",
       "      <td>0</td>\n",
       "      <td>0</td>\n",
       "      <td>PAIDOFF</td>\n",
       "      <td>1000</td>\n",
       "      <td>30</td>\n",
       "      <td>2016-09-08</td>\n",
       "      <td>2016-10-07</td>\n",
       "      <td>45</td>\n",
       "      <td>High School or Below</td>\n",
       "      <td>0</td>\n",
       "      <td>3</td>\n",
       "      <td>0</td>\n",
       "    </tr>\n",
       "    <tr>\n",
       "      <th>1</th>\n",
       "      <td>2</td>\n",
       "      <td>2</td>\n",
       "      <td>PAIDOFF</td>\n",
       "      <td>1000</td>\n",
       "      <td>30</td>\n",
       "      <td>2016-09-08</td>\n",
       "      <td>2016-10-07</td>\n",
       "      <td>33</td>\n",
       "      <td>Bechalor</td>\n",
       "      <td>1</td>\n",
       "      <td>3</td>\n",
       "      <td>0</td>\n",
       "    </tr>\n",
       "    <tr>\n",
       "      <th>2</th>\n",
       "      <td>3</td>\n",
       "      <td>3</td>\n",
       "      <td>PAIDOFF</td>\n",
       "      <td>1000</td>\n",
       "      <td>15</td>\n",
       "      <td>2016-09-08</td>\n",
       "      <td>2016-09-22</td>\n",
       "      <td>27</td>\n",
       "      <td>college</td>\n",
       "      <td>0</td>\n",
       "      <td>3</td>\n",
       "      <td>0</td>\n",
       "    </tr>\n",
       "    <tr>\n",
       "      <th>3</th>\n",
       "      <td>4</td>\n",
       "      <td>4</td>\n",
       "      <td>PAIDOFF</td>\n",
       "      <td>1000</td>\n",
       "      <td>30</td>\n",
       "      <td>2016-09-09</td>\n",
       "      <td>2016-10-08</td>\n",
       "      <td>28</td>\n",
       "      <td>college</td>\n",
       "      <td>1</td>\n",
       "      <td>4</td>\n",
       "      <td>1</td>\n",
       "    </tr>\n",
       "    <tr>\n",
       "      <th>4</th>\n",
       "      <td>6</td>\n",
       "      <td>6</td>\n",
       "      <td>PAIDOFF</td>\n",
       "      <td>1000</td>\n",
       "      <td>30</td>\n",
       "      <td>2016-09-09</td>\n",
       "      <td>2016-10-08</td>\n",
       "      <td>29</td>\n",
       "      <td>college</td>\n",
       "      <td>0</td>\n",
       "      <td>4</td>\n",
       "      <td>1</td>\n",
       "    </tr>\n",
       "  </tbody>\n",
       "</table>\n",
       "</div>"
      ],
      "text/plain": [
       "   Unnamed: 0  Unnamed: 0.1 loan_status  Principal  terms effective_date  \\\n",
       "0           0             0     PAIDOFF       1000     30     2016-09-08   \n",
       "1           2             2     PAIDOFF       1000     30     2016-09-08   \n",
       "2           3             3     PAIDOFF       1000     15     2016-09-08   \n",
       "3           4             4     PAIDOFF       1000     30     2016-09-09   \n",
       "4           6             6     PAIDOFF       1000     30     2016-09-09   \n",
       "\n",
       "    due_date  age             education  Gender  dayofweek  weekend  \n",
       "0 2016-10-07   45  High School or Below       0          3        0  \n",
       "1 2016-10-07   33              Bechalor       1          3        0  \n",
       "2 2016-09-22   27               college       0          3        0  \n",
       "3 2016-10-08   28               college       1          4        1  \n",
       "4 2016-10-08   29               college       0          4        1  "
      ]
     },
     "execution_count": 14,
     "metadata": {},
     "output_type": "execute_result"
    }
   ],
   "source": [
    "df['Gender'].replace(to_replace=['male','female'], value=[0,1],inplace=True)\n",
    "df.head()"
   ]
  },
  {
   "cell_type": "markdown",
   "metadata": {
    "button": false,
    "new_sheet": false,
    "run_control": {
     "read_only": false
    }
   },
   "source": [
    "## One Hot Encoding\n",
    "\n",
    "#### How about education?\n"
   ]
  },
  {
   "cell_type": "code",
   "execution_count": 15,
   "metadata": {
    "button": false,
    "new_sheet": false,
    "run_control": {
     "read_only": false
    }
   },
   "outputs": [
    {
     "data": {
      "text/plain": [
       "education             loan_status\n",
       "Bechalor              PAIDOFF        0.750000\n",
       "                      COLLECTION     0.250000\n",
       "High School or Below  PAIDOFF        0.741722\n",
       "                      COLLECTION     0.258278\n",
       "Master or Above       COLLECTION     0.500000\n",
       "                      PAIDOFF        0.500000\n",
       "college               PAIDOFF        0.765101\n",
       "                      COLLECTION     0.234899\n",
       "Name: loan_status, dtype: float64"
      ]
     },
     "execution_count": 15,
     "metadata": {},
     "output_type": "execute_result"
    }
   ],
   "source": [
    "df.groupby(['education'])['loan_status'].value_counts(normalize=True)"
   ]
  },
  {
   "cell_type": "markdown",
   "metadata": {
    "button": false,
    "new_sheet": false,
    "run_control": {
     "read_only": false
    }
   },
   "source": [
    "#### Features before One Hot Encoding\n"
   ]
  },
  {
   "cell_type": "code",
   "execution_count": 16,
   "metadata": {
    "button": false,
    "new_sheet": false,
    "run_control": {
     "read_only": false
    }
   },
   "outputs": [
    {
     "data": {
      "text/html": [
       "<div>\n",
       "<style scoped>\n",
       "    .dataframe tbody tr th:only-of-type {\n",
       "        vertical-align: middle;\n",
       "    }\n",
       "\n",
       "    .dataframe tbody tr th {\n",
       "        vertical-align: top;\n",
       "    }\n",
       "\n",
       "    .dataframe thead th {\n",
       "        text-align: right;\n",
       "    }\n",
       "</style>\n",
       "<table border=\"1\" class=\"dataframe\">\n",
       "  <thead>\n",
       "    <tr style=\"text-align: right;\">\n",
       "      <th></th>\n",
       "      <th>Principal</th>\n",
       "      <th>terms</th>\n",
       "      <th>age</th>\n",
       "      <th>Gender</th>\n",
       "      <th>education</th>\n",
       "    </tr>\n",
       "  </thead>\n",
       "  <tbody>\n",
       "    <tr>\n",
       "      <th>0</th>\n",
       "      <td>1000</td>\n",
       "      <td>30</td>\n",
       "      <td>45</td>\n",
       "      <td>0</td>\n",
       "      <td>High School or Below</td>\n",
       "    </tr>\n",
       "    <tr>\n",
       "      <th>1</th>\n",
       "      <td>1000</td>\n",
       "      <td>30</td>\n",
       "      <td>33</td>\n",
       "      <td>1</td>\n",
       "      <td>Bechalor</td>\n",
       "    </tr>\n",
       "    <tr>\n",
       "      <th>2</th>\n",
       "      <td>1000</td>\n",
       "      <td>15</td>\n",
       "      <td>27</td>\n",
       "      <td>0</td>\n",
       "      <td>college</td>\n",
       "    </tr>\n",
       "    <tr>\n",
       "      <th>3</th>\n",
       "      <td>1000</td>\n",
       "      <td>30</td>\n",
       "      <td>28</td>\n",
       "      <td>1</td>\n",
       "      <td>college</td>\n",
       "    </tr>\n",
       "    <tr>\n",
       "      <th>4</th>\n",
       "      <td>1000</td>\n",
       "      <td>30</td>\n",
       "      <td>29</td>\n",
       "      <td>0</td>\n",
       "      <td>college</td>\n",
       "    </tr>\n",
       "  </tbody>\n",
       "</table>\n",
       "</div>"
      ],
      "text/plain": [
       "   Principal  terms  age  Gender             education\n",
       "0       1000     30   45       0  High School or Below\n",
       "1       1000     30   33       1              Bechalor\n",
       "2       1000     15   27       0               college\n",
       "3       1000     30   28       1               college\n",
       "4       1000     30   29       0               college"
      ]
     },
     "execution_count": 16,
     "metadata": {},
     "output_type": "execute_result"
    }
   ],
   "source": [
    "df[['Principal','terms','age','Gender','education']].head()"
   ]
  },
  {
   "cell_type": "markdown",
   "metadata": {
    "button": false,
    "new_sheet": false,
    "run_control": {
     "read_only": false
    }
   },
   "source": [
    "#### Use one hot encoding technique to conver categorical varables to binary variables and append them to the feature Data Frame\n"
   ]
  },
  {
   "cell_type": "code",
   "execution_count": 17,
   "metadata": {
    "button": false,
    "new_sheet": false,
    "run_control": {
     "read_only": false
    }
   },
   "outputs": [
    {
     "data": {
      "text/html": [
       "<div>\n",
       "<style scoped>\n",
       "    .dataframe tbody tr th:only-of-type {\n",
       "        vertical-align: middle;\n",
       "    }\n",
       "\n",
       "    .dataframe tbody tr th {\n",
       "        vertical-align: top;\n",
       "    }\n",
       "\n",
       "    .dataframe thead th {\n",
       "        text-align: right;\n",
       "    }\n",
       "</style>\n",
       "<table border=\"1\" class=\"dataframe\">\n",
       "  <thead>\n",
       "    <tr style=\"text-align: right;\">\n",
       "      <th></th>\n",
       "      <th>Principal</th>\n",
       "      <th>terms</th>\n",
       "      <th>age</th>\n",
       "      <th>Gender</th>\n",
       "      <th>weekend</th>\n",
       "      <th>Bechalor</th>\n",
       "      <th>High School or Below</th>\n",
       "      <th>college</th>\n",
       "    </tr>\n",
       "  </thead>\n",
       "  <tbody>\n",
       "    <tr>\n",
       "      <th>0</th>\n",
       "      <td>1000</td>\n",
       "      <td>30</td>\n",
       "      <td>45</td>\n",
       "      <td>0</td>\n",
       "      <td>0</td>\n",
       "      <td>0</td>\n",
       "      <td>1</td>\n",
       "      <td>0</td>\n",
       "    </tr>\n",
       "    <tr>\n",
       "      <th>1</th>\n",
       "      <td>1000</td>\n",
       "      <td>30</td>\n",
       "      <td>33</td>\n",
       "      <td>1</td>\n",
       "      <td>0</td>\n",
       "      <td>1</td>\n",
       "      <td>0</td>\n",
       "      <td>0</td>\n",
       "    </tr>\n",
       "    <tr>\n",
       "      <th>2</th>\n",
       "      <td>1000</td>\n",
       "      <td>15</td>\n",
       "      <td>27</td>\n",
       "      <td>0</td>\n",
       "      <td>0</td>\n",
       "      <td>0</td>\n",
       "      <td>0</td>\n",
       "      <td>1</td>\n",
       "    </tr>\n",
       "    <tr>\n",
       "      <th>3</th>\n",
       "      <td>1000</td>\n",
       "      <td>30</td>\n",
       "      <td>28</td>\n",
       "      <td>1</td>\n",
       "      <td>1</td>\n",
       "      <td>0</td>\n",
       "      <td>0</td>\n",
       "      <td>1</td>\n",
       "    </tr>\n",
       "    <tr>\n",
       "      <th>4</th>\n",
       "      <td>1000</td>\n",
       "      <td>30</td>\n",
       "      <td>29</td>\n",
       "      <td>0</td>\n",
       "      <td>1</td>\n",
       "      <td>0</td>\n",
       "      <td>0</td>\n",
       "      <td>1</td>\n",
       "    </tr>\n",
       "  </tbody>\n",
       "</table>\n",
       "</div>"
      ],
      "text/plain": [
       "   Principal  terms  age  Gender  weekend  Bechalor  High School or Below  \\\n",
       "0       1000     30   45       0        0         0                     1   \n",
       "1       1000     30   33       1        0         1                     0   \n",
       "2       1000     15   27       0        0         0                     0   \n",
       "3       1000     30   28       1        1         0                     0   \n",
       "4       1000     30   29       0        1         0                     0   \n",
       "\n",
       "   college  \n",
       "0        0  \n",
       "1        0  \n",
       "2        1  \n",
       "3        1  \n",
       "4        1  "
      ]
     },
     "execution_count": 17,
     "metadata": {},
     "output_type": "execute_result"
    }
   ],
   "source": [
    "Feature = df[['Principal','terms','age','Gender','weekend']]\n",
    "Feature = pd.concat([Feature,pd.get_dummies(df['education'])], axis=1)\n",
    "Feature.drop(['Master or Above'], axis = 1,inplace=True)\n",
    "Feature.head()"
   ]
  },
  {
   "cell_type": "markdown",
   "metadata": {
    "button": false,
    "new_sheet": false,
    "run_control": {
     "read_only": false
    }
   },
   "source": [
    "### Feature Selection\n"
   ]
  },
  {
   "cell_type": "markdown",
   "metadata": {
    "button": false,
    "new_sheet": false,
    "run_control": {
     "read_only": false
    }
   },
   "source": [
    "Let's define feature sets, X:\n"
   ]
  },
  {
   "cell_type": "code",
   "execution_count": 18,
   "metadata": {
    "button": false,
    "new_sheet": false,
    "run_control": {
     "read_only": false
    }
   },
   "outputs": [
    {
     "data": {
      "text/html": [
       "<div>\n",
       "<style scoped>\n",
       "    .dataframe tbody tr th:only-of-type {\n",
       "        vertical-align: middle;\n",
       "    }\n",
       "\n",
       "    .dataframe tbody tr th {\n",
       "        vertical-align: top;\n",
       "    }\n",
       "\n",
       "    .dataframe thead th {\n",
       "        text-align: right;\n",
       "    }\n",
       "</style>\n",
       "<table border=\"1\" class=\"dataframe\">\n",
       "  <thead>\n",
       "    <tr style=\"text-align: right;\">\n",
       "      <th></th>\n",
       "      <th>Principal</th>\n",
       "      <th>terms</th>\n",
       "      <th>age</th>\n",
       "      <th>Gender</th>\n",
       "      <th>weekend</th>\n",
       "      <th>Bechalor</th>\n",
       "      <th>High School or Below</th>\n",
       "      <th>college</th>\n",
       "    </tr>\n",
       "  </thead>\n",
       "  <tbody>\n",
       "    <tr>\n",
       "      <th>0</th>\n",
       "      <td>1000</td>\n",
       "      <td>30</td>\n",
       "      <td>45</td>\n",
       "      <td>0</td>\n",
       "      <td>0</td>\n",
       "      <td>0</td>\n",
       "      <td>1</td>\n",
       "      <td>0</td>\n",
       "    </tr>\n",
       "    <tr>\n",
       "      <th>1</th>\n",
       "      <td>1000</td>\n",
       "      <td>30</td>\n",
       "      <td>33</td>\n",
       "      <td>1</td>\n",
       "      <td>0</td>\n",
       "      <td>1</td>\n",
       "      <td>0</td>\n",
       "      <td>0</td>\n",
       "    </tr>\n",
       "    <tr>\n",
       "      <th>2</th>\n",
       "      <td>1000</td>\n",
       "      <td>15</td>\n",
       "      <td>27</td>\n",
       "      <td>0</td>\n",
       "      <td>0</td>\n",
       "      <td>0</td>\n",
       "      <td>0</td>\n",
       "      <td>1</td>\n",
       "    </tr>\n",
       "    <tr>\n",
       "      <th>3</th>\n",
       "      <td>1000</td>\n",
       "      <td>30</td>\n",
       "      <td>28</td>\n",
       "      <td>1</td>\n",
       "      <td>1</td>\n",
       "      <td>0</td>\n",
       "      <td>0</td>\n",
       "      <td>1</td>\n",
       "    </tr>\n",
       "    <tr>\n",
       "      <th>4</th>\n",
       "      <td>1000</td>\n",
       "      <td>30</td>\n",
       "      <td>29</td>\n",
       "      <td>0</td>\n",
       "      <td>1</td>\n",
       "      <td>0</td>\n",
       "      <td>0</td>\n",
       "      <td>1</td>\n",
       "    </tr>\n",
       "  </tbody>\n",
       "</table>\n",
       "</div>"
      ],
      "text/plain": [
       "   Principal  terms  age  Gender  weekend  Bechalor  High School or Below  \\\n",
       "0       1000     30   45       0        0         0                     1   \n",
       "1       1000     30   33       1        0         1                     0   \n",
       "2       1000     15   27       0        0         0                     0   \n",
       "3       1000     30   28       1        1         0                     0   \n",
       "4       1000     30   29       0        1         0                     0   \n",
       "\n",
       "   college  \n",
       "0        0  \n",
       "1        0  \n",
       "2        1  \n",
       "3        1  \n",
       "4        1  "
      ]
     },
     "execution_count": 18,
     "metadata": {},
     "output_type": "execute_result"
    }
   ],
   "source": [
    "X = Feature\n",
    "X[0:5]"
   ]
  },
  {
   "cell_type": "markdown",
   "metadata": {
    "button": false,
    "new_sheet": false,
    "run_control": {
     "read_only": false
    }
   },
   "source": [
    "What are our lables?\n"
   ]
  },
  {
   "cell_type": "code",
   "execution_count": 19,
   "metadata": {
    "button": false,
    "new_sheet": false,
    "run_control": {
     "read_only": false
    }
   },
   "outputs": [
    {
     "data": {
      "text/plain": [
       "array(['PAIDOFF', 'PAIDOFF', 'PAIDOFF', 'PAIDOFF', 'PAIDOFF'],\n",
       "      dtype=object)"
      ]
     },
     "execution_count": 19,
     "metadata": {},
     "output_type": "execute_result"
    }
   ],
   "source": [
    "y = df['loan_status'].values\n",
    "y[0:5]"
   ]
  },
  {
   "cell_type": "markdown",
   "metadata": {
    "button": false,
    "new_sheet": false,
    "run_control": {
     "read_only": false
    }
   },
   "source": [
    "## Normalize Data\n"
   ]
  },
  {
   "cell_type": "markdown",
   "metadata": {
    "button": false,
    "new_sheet": false,
    "run_control": {
     "read_only": false
    }
   },
   "source": [
    "Data Standardization give data zero mean and unit variance (technically should be done after train test split)\n"
   ]
  },
  {
   "cell_type": "code",
   "execution_count": 20,
   "metadata": {
    "button": false,
    "new_sheet": false,
    "run_control": {
     "read_only": false
    }
   },
   "outputs": [
    {
     "data": {
      "text/plain": [
       "array([[ 0.51578458,  0.92071769,  2.33152555, -0.42056004, -1.20577805,\n",
       "        -0.38170062,  1.13639374, -0.86968108],\n",
       "       [ 0.51578458,  0.92071769,  0.34170148,  2.37778177, -1.20577805,\n",
       "         2.61985426, -0.87997669, -0.86968108],\n",
       "       [ 0.51578458, -0.95911111, -0.65321055, -0.42056004, -1.20577805,\n",
       "        -0.38170062, -0.87997669,  1.14984679],\n",
       "       [ 0.51578458,  0.92071769, -0.48739188,  2.37778177,  0.82934003,\n",
       "        -0.38170062, -0.87997669,  1.14984679],\n",
       "       [ 0.51578458,  0.92071769, -0.3215732 , -0.42056004,  0.82934003,\n",
       "        -0.38170062, -0.87997669,  1.14984679]])"
      ]
     },
     "execution_count": 20,
     "metadata": {},
     "output_type": "execute_result"
    }
   ],
   "source": [
    "X= preprocessing.StandardScaler().fit(X).transform(X)\n",
    "X[0:5]"
   ]
  },
  {
   "cell_type": "markdown",
   "metadata": {
    "button": false,
    "new_sheet": false,
    "run_control": {
     "read_only": false
    }
   },
   "source": [
    "# Classification\n"
   ]
  },
  {
   "cell_type": "markdown",
   "metadata": {
    "button": false,
    "new_sheet": false,
    "run_control": {
     "read_only": false
    }
   },
   "source": [
    "Now, it is your turn, use the training set to build an accurate model. Then use the test set to report the accuracy of the model\n",
    "You should use the following algorithm:\n",
    "\n",
    "*   K Nearest Neighbor(KNN)\n",
    "*   Decision Tree\n",
    "*   Support Vector Machine\n",
    "*   Logistic Regression\n",
    "\n",
    "\\__ Notice:\\__\n",
    "\n",
    "*   You can go above and change the pre-processing, feature selection, feature-extraction, and so on, to make a better model.\n",
    "*   You should use either scikit-learn, Scipy or Numpy libraries for developing the classification algorithms.\n",
    "*   You should include the code of the algorithm in the following cells.\n"
   ]
  },
  {
   "cell_type": "markdown",
   "metadata": {},
   "source": [
    "# K Nearest Neighbor(KNN)\n",
    "\n",
    "Notice: You should find the best k to build the model with the best accuracy.\\\n",
    "**warning:** You should not use the **loan_test.csv** for finding the best k, however, you can split your train_loan.csv into train and test to find the best **k**.\n"
   ]
  },
  {
   "cell_type": "code",
   "execution_count": 21,
   "metadata": {},
   "outputs": [
    {
     "name": "stdout",
     "output_type": "stream",
     "text": [
      "train set: (276, 8) (276,)\n",
      "test set: (70, 8) (70,)\n"
     ]
    }
   ],
   "source": [
    "#split dataset to train and test \n",
    "from sklearn.model_selection import train_test_split\n",
    "X_train, X_test, y_train, y_test = train_test_split(X, y, test_size=0.2, random_state=4) \n",
    "print('train set:', X_train.shape, y_train.shape)\n",
    "print('test set:', X_test.shape, y_test.shape)"
   ]
  },
  {
   "cell_type": "code",
   "execution_count": 22,
   "metadata": {},
   "outputs": [
    {
     "data": {
      "text/plain": [
       "KNeighborsClassifier(algorithm='auto', leaf_size=30, metric='minkowski',\n",
       "           metric_params=None, n_jobs=None, n_neighbors=4, p=2,\n",
       "           weights='uniform')"
      ]
     },
     "execution_count": 22,
     "metadata": {},
     "output_type": "execute_result"
    }
   ],
   "source": [
    "#training with KNN method\n",
    "# lets just randomly train with k = 4, just to test the accuracy\n",
    "from sklearn.neighbors import KNeighborsClassifier\n",
    "k = 4\n",
    "neigh = KNeighborsClassifier(n_neighbors = k).fit(X_train,y_train)\n",
    "neigh"
   ]
  },
  {
   "cell_type": "code",
   "execution_count": 132,
   "metadata": {},
   "outputs": [
    {
     "name": "stdout",
     "output_type": "stream",
     "text": [
      "Train set accuracy:  0.8152173913043478\n",
      "Test set accuracy:  0.7\n"
     ]
    }
   ],
   "source": [
    "#predicting with test set\n",
    "yhat = neigh.predict(X_test)\n",
    "\n",
    "#accuracy evaluation\n",
    "from sklearn import metrics\n",
    "print('Train set accuracy: ', metrics.accuracy_score(y_train, neigh.predict(X_train)))\n",
    "print(\"Test set accuracy: \", metrics.accuracy_score(y_test, yhat))"
   ]
  },
  {
   "cell_type": "code",
   "execution_count": 133,
   "metadata": {},
   "outputs": [
    {
     "data": {
      "image/png": "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\n",
      "text/plain": [
       "<Figure size 432x288 with 1 Axes>"
      ]
     },
     "metadata": {
      "needs_background": "light"
     },
     "output_type": "display_data"
    },
    {
     "name": "stdout",
     "output_type": "stream",
     "text": [
      "The best accuracy was with:  0.8 with k= 7\n"
     ]
    }
   ],
   "source": [
    "# previously trained only for k = 4\n",
    "# now we will train for different k values i,e k = 12, calculate accuracy for all k values and plot it to find the best k value\n",
    "\n",
    "k = 12\n",
    "mean_acc = np.zeros((k-1))\n",
    "std_acc = np.zeros((k-1))\n",
    "\n",
    "for n in range(1,k):\n",
    "    neigh = KNeighborsClassifier(n_neighbors=n).fit(X_train,y_train)\n",
    "    yhat = neigh.predict(X_test)\n",
    "    mean_acc[n-1] = metrics.accuracy_score(y_test, yhat)\n",
    "    std_acc[n-1] = np.std(yhat==y_test)/np.sqrt(yhat.shape[0])\n",
    "mean_acc\n",
    "\n",
    "#plot graph of accuracy against diff k values to see which k value is best fit\n",
    "plt.plot(range(1,k), mean_acc)\n",
    "plt.ylabel('Accuracy')\n",
    "plt.xlabel('k values')\n",
    "plt.show()\n",
    "\n",
    "print(\"The best accuracy was with: \", mean_acc.max(), \"with k=\", mean_acc.argmax()+1)"
   ]
  },
  {
   "cell_type": "code",
   "execution_count": 24,
   "metadata": {},
   "outputs": [
    {
     "data": {
      "text/plain": [
       "KNeighborsClassifier(algorithm='auto', leaf_size=30, metric='minkowski',\n",
       "           metric_params=None, n_jobs=None, n_neighbors=7, p=2,\n",
       "           weights='uniform')"
      ]
     },
     "execution_count": 24,
     "metadata": {},
     "output_type": "execute_result"
    }
   ],
   "source": [
    "# since we found out k = 7 is with best accuracy, lets train the model with k =7\n",
    "k=7\n",
    "neigh = KNeighborsClassifier(n_neighbors = k).fit(X_train, y_train)\n",
    "neigh"
   ]
  },
  {
   "cell_type": "markdown",
   "metadata": {},
   "source": [
    "# Decision Tree\n"
   ]
  },
  {
   "cell_type": "code",
   "execution_count": 25,
   "metadata": {},
   "outputs": [
    {
     "data": {
      "text/plain": [
       "DecisionTreeClassifier(class_weight=None, criterion='entropy', max_depth=2,\n",
       "            max_features=None, max_leaf_nodes=None,\n",
       "            min_impurity_decrease=0.0, min_impurity_split=None,\n",
       "            min_samples_leaf=1, min_samples_split=2,\n",
       "            min_weight_fraction_leaf=0.0, presort=False, random_state=None,\n",
       "            splitter='best')"
      ]
     },
     "execution_count": 25,
     "metadata": {},
     "output_type": "execute_result"
    }
   ],
   "source": [
    "# Modeling\n",
    "\n",
    "# first create an instance of DecisionTreeClassifier called loanTree, criterion used is 'entropy'\n",
    "from sklearn.tree import DecisionTreeClassifier\n",
    "loanTree = DecisionTreeClassifier(criterion=\"entropy\", max_depth=2)\n",
    "loanTree\n",
    "\n",
    "#fit the data\n",
    "loanTree.fit(X_train, y_train)"
   ]
  },
  {
   "cell_type": "code",
   "execution_count": 26,
   "metadata": {},
   "outputs": [
    {
     "name": "stdout",
     "output_type": "stream",
     "text": [
      "['PAIDOFF' 'PAIDOFF' 'PAIDOFF' 'PAIDOFF' 'PAIDOFF']\n",
      "['PAIDOFF' 'PAIDOFF' 'PAIDOFF' 'PAIDOFF' 'PAIDOFF']\n"
     ]
    }
   ],
   "source": [
    "# Predection\n",
    "\n",
    "predTree = loanTree.predict(X_test)\n",
    "\n",
    "print(predTree[0:5])\n",
    "print(y_test[0:5])"
   ]
  },
  {
   "cell_type": "code",
   "execution_count": 160,
   "metadata": {},
   "outputs": [
    {
     "name": "stdout",
     "output_type": "stream",
     "text": [
      "Decission Tree's Accuracy:  0.7857142857142857\n"
     ]
    }
   ],
   "source": [
    "#Evaluation\n",
    "\n",
    "from sklearn import metrics\n",
    "print(\"Decission Tree's Accuracy: \", metrics.accuracy_score(y_test, predTree))"
   ]
  },
  {
   "cell_type": "code",
   "execution_count": 62,
   "metadata": {},
   "outputs": [
    {
     "data": {
      "image/png": "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\n",
      "text/plain": [
       "<Figure size 432x288 with 1 Axes>"
      ]
     },
     "metadata": {
      "needs_background": "light"
     },
     "output_type": "display_data"
    }
   ],
   "source": [
    "#Visualization\n",
    "\n",
    "import sklearn.tree as tree\n",
    "tree.plot_tree(loanTree)\n",
    "plt.show()"
   ]
  },
  {
   "cell_type": "markdown",
   "metadata": {},
   "source": [
    "# Support Vector Machine\n"
   ]
  },
  {
   "cell_type": "code",
   "execution_count": 27,
   "metadata": {},
   "outputs": [
    {
     "data": {
      "text/plain": [
       "array(['COLLECTION', 'PAIDOFF', 'PAIDOFF', 'PAIDOFF', 'PAIDOFF'],\n",
       "      dtype=object)"
      ]
     },
     "execution_count": 27,
     "metadata": {},
     "output_type": "execute_result"
    }
   ],
   "source": [
    "#Modeling\n",
    "from sklearn import svm\n",
    "clf = svm.SVC(kernel='rbf')\n",
    "clf.fit(X_train, y_train)\n",
    "\n",
    "#predict \n",
    "yhat = clf.predict(X_test)\n",
    "yhat[0:5]"
   ]
  },
  {
   "cell_type": "code",
   "execution_count": 34,
   "metadata": {},
   "outputs": [],
   "source": [
    "#Evaluation\n",
    "\n",
    "from sklearn.metrics import classification_report, confusion_matrix\n",
    "import itertools\n",
    "import pylab as pl\n",
    "import scipy.optimize as opt\n",
    "\n",
    "def plot_confusion_matrix(cm, classes, normalize=False, title='Confusion Matrix', cmap=plt.cm.Blues):\n",
    "    \n",
    "    if normalize:\n",
    "        cm = cm.astype('float') / cm.sum(axis=1)[:, np.newaxis]\n",
    "        print(\"Normalized confusion matrix\")\n",
    "    else:\n",
    "        print(\"confusion matrix, without normalization\")\n",
    "    \n",
    "    print(cm)\n",
    "    \n",
    "    plt.imshow(cm, interpolation='nearest', cmap=cmap)\n",
    "    plt.title(title)\n",
    "    plt.colorbar()\n",
    "    tick_marks = np.arange(len(classes))\n",
    "    plt.xticks(tick_marks, classes, rotation=45)\n",
    "    plt.yticks(tick_marks, classes)\n",
    "    \n",
    "    fmt = '.2f' if normalize  else 'd'\n",
    "    thresh = cm.max()/2\n",
    "    for i, j in itertools.product(range(cm.shape[0]), range(cm.shape[1])):\n",
    "        plt.text(j, i, format(cm[i, j], fmt),\n",
    "                 horizontalalignment=\"center\",\n",
    "                 color=\"white\" if cm[i, j] > thresh else \"black\")\n",
    "        \n",
    "    plt.tight_layout()\n",
    "    plt.xlabel('True label')\n",
    "    plt.ylabel('Predicted label')\n",
    "    "
   ]
  },
  {
   "cell_type": "code",
   "execution_count": 35,
   "metadata": {},
   "outputs": [
    {
     "name": "stdout",
     "output_type": "stream",
     "text": [
      "              precision    recall  f1-score   support\n",
      "\n",
      "  COLLECTION       0.36      0.27      0.31        15\n",
      "     PAIDOFF       0.81      0.87      0.84        55\n",
      "\n",
      "    accuracy                           0.74        70\n",
      "   macro avg       0.59      0.57      0.57        70\n",
      "weighted avg       0.72      0.74      0.73        70\n",
      "\n",
      "confusion matrix, without normalization\n",
      "[[ 4 11]\n",
      " [ 7 48]]\n"
     ]
    },
    {
     "data": {
      "image/png": "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\n",
      "text/plain": [
       "<Figure size 432x288 with 2 Axes>"
      ]
     },
     "metadata": {
      "needs_background": "light"
     },
     "output_type": "display_data"
    }
   ],
   "source": [
    "#compute confusion matrix\n",
    "cnf_matrix = confusion_matrix(y_test, yhat)\n",
    "np.set_printoptions(precision=2)\n",
    "print (classification_report(y_test, yhat))\n",
    "plt.figure()\n",
    "plot_confusion_matrix(cnf_matrix, classes=['PAINOFF(2)','COLLECTION(4)'],normalize= False,  title='Confusion matrix')"
   ]
  },
  {
   "cell_type": "markdown",
   "metadata": {},
   "source": [
    "# Logistic Regression\n"
   ]
  },
  {
   "cell_type": "code",
   "execution_count": 28,
   "metadata": {},
   "outputs": [],
   "source": [
    "from sklearn.linear_model import LogisticRegression"
   ]
  },
  {
   "cell_type": "code",
   "execution_count": 29,
   "metadata": {},
   "outputs": [
    {
     "data": {
      "text/plain": [
       "LogisticRegression(C=0.01, class_weight=None, dual=False, fit_intercept=True,\n",
       "          intercept_scaling=1, max_iter=100, multi_class='warn',\n",
       "          n_jobs=None, penalty='l2', random_state=None, solver='liblinear',\n",
       "          tol=0.0001, verbose=0, warm_start=False)"
      ]
     },
     "execution_count": 29,
     "metadata": {},
     "output_type": "execute_result"
    }
   ],
   "source": [
    "#modeling\n",
    "LR = LogisticRegression(C=0.01, solver='liblinear').fit(X_train,y_train)\n",
    "LR"
   ]
  },
  {
   "cell_type": "code",
   "execution_count": 165,
   "metadata": {},
   "outputs": [
    {
     "data": {
      "text/plain": [
       "array([[0.5 , 0.5 ],\n",
       "       [0.45, 0.55],\n",
       "       [0.31, 0.69],\n",
       "       [0.34, 0.66],\n",
       "       [0.32, 0.68],\n",
       "       [0.32, 0.68],\n",
       "       [0.49, 0.51],\n",
       "       [0.48, 0.52],\n",
       "       [0.34, 0.66],\n",
       "       [0.49, 0.51],\n",
       "       [0.34, 0.66],\n",
       "       [0.5 , 0.5 ],\n",
       "       [0.25, 0.75],\n",
       "       [0.34, 0.66],\n",
       "       [0.44, 0.56],\n",
       "       [0.26, 0.74],\n",
       "       [0.52, 0.48],\n",
       "       [0.3 , 0.7 ],\n",
       "       [0.5 , 0.5 ],\n",
       "       [0.32, 0.68],\n",
       "       [0.44, 0.56],\n",
       "       [0.49, 0.51],\n",
       "       [0.51, 0.49],\n",
       "       [0.47, 0.53],\n",
       "       [0.41, 0.59],\n",
       "       [0.51, 0.49],\n",
       "       [0.51, 0.49],\n",
       "       [0.37, 0.63],\n",
       "       [0.5 , 0.5 ],\n",
       "       [0.25, 0.75],\n",
       "       [0.47, 0.53],\n",
       "       [0.46, 0.54],\n",
       "       [0.46, 0.54],\n",
       "       [0.48, 0.52],\n",
       "       [0.39, 0.61],\n",
       "       [0.46, 0.54],\n",
       "       [0.5 , 0.5 ],\n",
       "       [0.29, 0.71],\n",
       "       [0.46, 0.54],\n",
       "       [0.45, 0.55],\n",
       "       [0.51, 0.49],\n",
       "       [0.32, 0.68],\n",
       "       [0.45, 0.55],\n",
       "       [0.51, 0.49],\n",
       "       [0.31, 0.69],\n",
       "       [0.5 , 0.5 ],\n",
       "       [0.47, 0.53],\n",
       "       [0.5 , 0.5 ],\n",
       "       [0.46, 0.54],\n",
       "       [0.46, 0.54],\n",
       "       [0.28, 0.72],\n",
       "       [0.47, 0.53],\n",
       "       [0.31, 0.69],\n",
       "       [0.49, 0.51],\n",
       "       [0.28, 0.72],\n",
       "       [0.25, 0.75],\n",
       "       [0.32, 0.68],\n",
       "       [0.43, 0.57],\n",
       "       [0.47, 0.53],\n",
       "       [0.34, 0.66],\n",
       "       [0.42, 0.58],\n",
       "       [0.33, 0.67],\n",
       "       [0.46, 0.54],\n",
       "       [0.53, 0.47],\n",
       "       [0.32, 0.68],\n",
       "       [0.49, 0.51],\n",
       "       [0.33, 0.67],\n",
       "       [0.42, 0.58],\n",
       "       [0.45, 0.55],\n",
       "       [0.32, 0.68]])"
      ]
     },
     "execution_count": 165,
     "metadata": {},
     "output_type": "execute_result"
    }
   ],
   "source": [
    "#predection\n",
    "yhat = LR.predict(X_test)\n",
    "yhat\n",
    "\n",
    "yhat_prob = LR.predict_proba(X_test)\n",
    "yhat_prob"
   ]
  },
  {
   "cell_type": "markdown",
   "metadata": {},
   "source": [
    "# Model Evaluation using Test set\n"
   ]
  },
  {
   "cell_type": "code",
   "execution_count": 38,
   "metadata": {},
   "outputs": [],
   "source": [
    "from sklearn.metrics import jaccard_similarity_score\n",
    "from sklearn.metrics import f1_score\n",
    "from sklearn.metrics import log_loss\n"
   ]
  },
  {
   "cell_type": "markdown",
   "metadata": {},
   "source": [
    "First, download and load the test set:\n"
   ]
  },
  {
   "cell_type": "code",
   "execution_count": 32,
   "metadata": {},
   "outputs": [
    {
     "name": "stdout",
     "output_type": "stream",
     "text": [
      "--2022-09-19 09:15:37--  https://s3-api.us-geo.objectstorage.softlayer.net/cf-courses-data/CognitiveClass/ML0101ENv3/labs/loan_test.csv\n",
      "Resolving s3-api.us-geo.objectstorage.softlayer.net (s3-api.us-geo.objectstorage.softlayer.net)... 67.228.254.196\n",
      "Connecting to s3-api.us-geo.objectstorage.softlayer.net (s3-api.us-geo.objectstorage.softlayer.net)|67.228.254.196|:443... connected.\n",
      "HTTP request sent, awaiting response... 200 OK\n",
      "Length: 3642 (3.6K) [text/csv]\n",
      "Saving to: ‘loan_test.csv’\n",
      "\n",
      "loan_test.csv       100%[===================>]   3.56K  --.-KB/s    in 0s      \n",
      "\n",
      "2022-09-19 09:15:37 (12.9 MB/s) - ‘loan_test.csv’ saved [3642/3642]\n",
      "\n"
     ]
    }
   ],
   "source": [
    "!wget -O loan_test.csv https://s3-api.us-geo.objectstorage.softlayer.net/cf-courses-data/CognitiveClass/ML0101ENv3/labs/loan_test.csv"
   ]
  },
  {
   "cell_type": "markdown",
   "metadata": {
    "button": false,
    "new_sheet": false,
    "run_control": {
     "read_only": false
    }
   },
   "source": [
    "### Load Test set for evaluation\n"
   ]
  },
  {
   "cell_type": "code",
   "execution_count": 40,
   "metadata": {
    "button": false,
    "new_sheet": false,
    "run_control": {
     "read_only": false
    }
   },
   "outputs": [
    {
     "data": {
      "text/html": [
       "<div>\n",
       "<style scoped>\n",
       "    .dataframe tbody tr th:only-of-type {\n",
       "        vertical-align: middle;\n",
       "    }\n",
       "\n",
       "    .dataframe tbody tr th {\n",
       "        vertical-align: top;\n",
       "    }\n",
       "\n",
       "    .dataframe thead th {\n",
       "        text-align: right;\n",
       "    }\n",
       "</style>\n",
       "<table border=\"1\" class=\"dataframe\">\n",
       "  <thead>\n",
       "    <tr style=\"text-align: right;\">\n",
       "      <th></th>\n",
       "      <th>Unnamed: 0</th>\n",
       "      <th>Unnamed: 0.1</th>\n",
       "      <th>loan_status</th>\n",
       "      <th>Principal</th>\n",
       "      <th>terms</th>\n",
       "      <th>effective_date</th>\n",
       "      <th>due_date</th>\n",
       "      <th>age</th>\n",
       "      <th>education</th>\n",
       "      <th>Gender</th>\n",
       "    </tr>\n",
       "  </thead>\n",
       "  <tbody>\n",
       "    <tr>\n",
       "      <th>0</th>\n",
       "      <td>1</td>\n",
       "      <td>1</td>\n",
       "      <td>PAIDOFF</td>\n",
       "      <td>1000</td>\n",
       "      <td>30</td>\n",
       "      <td>9/8/2016</td>\n",
       "      <td>10/7/2016</td>\n",
       "      <td>50</td>\n",
       "      <td>Bechalor</td>\n",
       "      <td>female</td>\n",
       "    </tr>\n",
       "    <tr>\n",
       "      <th>1</th>\n",
       "      <td>5</td>\n",
       "      <td>5</td>\n",
       "      <td>PAIDOFF</td>\n",
       "      <td>300</td>\n",
       "      <td>7</td>\n",
       "      <td>9/9/2016</td>\n",
       "      <td>9/15/2016</td>\n",
       "      <td>35</td>\n",
       "      <td>Master or Above</td>\n",
       "      <td>male</td>\n",
       "    </tr>\n",
       "    <tr>\n",
       "      <th>2</th>\n",
       "      <td>21</td>\n",
       "      <td>21</td>\n",
       "      <td>PAIDOFF</td>\n",
       "      <td>1000</td>\n",
       "      <td>30</td>\n",
       "      <td>9/10/2016</td>\n",
       "      <td>10/9/2016</td>\n",
       "      <td>43</td>\n",
       "      <td>High School or Below</td>\n",
       "      <td>female</td>\n",
       "    </tr>\n",
       "    <tr>\n",
       "      <th>3</th>\n",
       "      <td>24</td>\n",
       "      <td>24</td>\n",
       "      <td>PAIDOFF</td>\n",
       "      <td>1000</td>\n",
       "      <td>30</td>\n",
       "      <td>9/10/2016</td>\n",
       "      <td>10/9/2016</td>\n",
       "      <td>26</td>\n",
       "      <td>college</td>\n",
       "      <td>male</td>\n",
       "    </tr>\n",
       "    <tr>\n",
       "      <th>4</th>\n",
       "      <td>35</td>\n",
       "      <td>35</td>\n",
       "      <td>PAIDOFF</td>\n",
       "      <td>800</td>\n",
       "      <td>15</td>\n",
       "      <td>9/11/2016</td>\n",
       "      <td>9/25/2016</td>\n",
       "      <td>29</td>\n",
       "      <td>Bechalor</td>\n",
       "      <td>male</td>\n",
       "    </tr>\n",
       "    <tr>\n",
       "      <th>5</th>\n",
       "      <td>37</td>\n",
       "      <td>37</td>\n",
       "      <td>PAIDOFF</td>\n",
       "      <td>700</td>\n",
       "      <td>15</td>\n",
       "      <td>9/11/2016</td>\n",
       "      <td>9/25/2016</td>\n",
       "      <td>33</td>\n",
       "      <td>High School or Below</td>\n",
       "      <td>male</td>\n",
       "    </tr>\n",
       "  </tbody>\n",
       "</table>\n",
       "</div>"
      ],
      "text/plain": [
       "   Unnamed: 0  Unnamed: 0.1 loan_status  Principal  terms effective_date  \\\n",
       "0           1             1     PAIDOFF       1000     30       9/8/2016   \n",
       "1           5             5     PAIDOFF        300      7       9/9/2016   \n",
       "2          21            21     PAIDOFF       1000     30      9/10/2016   \n",
       "3          24            24     PAIDOFF       1000     30      9/10/2016   \n",
       "4          35            35     PAIDOFF        800     15      9/11/2016   \n",
       "5          37            37     PAIDOFF        700     15      9/11/2016   \n",
       "\n",
       "    due_date  age             education  Gender  \n",
       "0  10/7/2016   50              Bechalor  female  \n",
       "1  9/15/2016   35       Master or Above    male  \n",
       "2  10/9/2016   43  High School or Below  female  \n",
       "3  10/9/2016   26               college    male  \n",
       "4  9/25/2016   29              Bechalor    male  \n",
       "5  9/25/2016   33  High School or Below    male  "
      ]
     },
     "execution_count": 40,
     "metadata": {},
     "output_type": "execute_result"
    }
   ],
   "source": [
    "test_df = pd.read_csv('loan_test.csv')\n",
    "test_df.head(6)"
   ]
  },
  {
   "cell_type": "code",
   "execution_count": 41,
   "metadata": {},
   "outputs": [
    {
     "data": {
      "text/html": [
       "<div>\n",
       "<style scoped>\n",
       "    .dataframe tbody tr th:only-of-type {\n",
       "        vertical-align: middle;\n",
       "    }\n",
       "\n",
       "    .dataframe tbody tr th {\n",
       "        vertical-align: top;\n",
       "    }\n",
       "\n",
       "    .dataframe thead th {\n",
       "        text-align: right;\n",
       "    }\n",
       "</style>\n",
       "<table border=\"1\" class=\"dataframe\">\n",
       "  <thead>\n",
       "    <tr style=\"text-align: right;\">\n",
       "      <th></th>\n",
       "      <th>Principal</th>\n",
       "      <th>terms</th>\n",
       "      <th>age</th>\n",
       "      <th>Gender</th>\n",
       "      <th>weekend</th>\n",
       "      <th>Bechalor</th>\n",
       "      <th>High School or Below</th>\n",
       "      <th>college</th>\n",
       "    </tr>\n",
       "  </thead>\n",
       "  <tbody>\n",
       "    <tr>\n",
       "      <th>0</th>\n",
       "      <td>1000</td>\n",
       "      <td>30</td>\n",
       "      <td>50</td>\n",
       "      <td>1</td>\n",
       "      <td>0</td>\n",
       "      <td>1</td>\n",
       "      <td>0</td>\n",
       "      <td>0</td>\n",
       "    </tr>\n",
       "    <tr>\n",
       "      <th>1</th>\n",
       "      <td>300</td>\n",
       "      <td>7</td>\n",
       "      <td>35</td>\n",
       "      <td>0</td>\n",
       "      <td>1</td>\n",
       "      <td>0</td>\n",
       "      <td>0</td>\n",
       "      <td>0</td>\n",
       "    </tr>\n",
       "    <tr>\n",
       "      <th>2</th>\n",
       "      <td>1000</td>\n",
       "      <td>30</td>\n",
       "      <td>43</td>\n",
       "      <td>1</td>\n",
       "      <td>1</td>\n",
       "      <td>0</td>\n",
       "      <td>1</td>\n",
       "      <td>0</td>\n",
       "    </tr>\n",
       "    <tr>\n",
       "      <th>3</th>\n",
       "      <td>1000</td>\n",
       "      <td>30</td>\n",
       "      <td>26</td>\n",
       "      <td>0</td>\n",
       "      <td>1</td>\n",
       "      <td>0</td>\n",
       "      <td>0</td>\n",
       "      <td>1</td>\n",
       "    </tr>\n",
       "    <tr>\n",
       "      <th>4</th>\n",
       "      <td>800</td>\n",
       "      <td>15</td>\n",
       "      <td>29</td>\n",
       "      <td>0</td>\n",
       "      <td>1</td>\n",
       "      <td>1</td>\n",
       "      <td>0</td>\n",
       "      <td>0</td>\n",
       "    </tr>\n",
       "    <tr>\n",
       "      <th>5</th>\n",
       "      <td>700</td>\n",
       "      <td>15</td>\n",
       "      <td>33</td>\n",
       "      <td>0</td>\n",
       "      <td>1</td>\n",
       "      <td>0</td>\n",
       "      <td>1</td>\n",
       "      <td>0</td>\n",
       "    </tr>\n",
       "  </tbody>\n",
       "</table>\n",
       "</div>"
      ],
      "text/plain": [
       "   Principal  terms  age  Gender  weekend  Bechalor  High School or Below  \\\n",
       "0       1000     30   50       1        0         1                     0   \n",
       "1        300      7   35       0        1         0                     0   \n",
       "2       1000     30   43       1        1         0                     1   \n",
       "3       1000     30   26       0        1         0                     0   \n",
       "4        800     15   29       0        1         1                     0   \n",
       "5        700     15   33       0        1         0                     1   \n",
       "\n",
       "   college  \n",
       "0        0  \n",
       "1        0  \n",
       "2        0  \n",
       "3        1  \n",
       "4        0  \n",
       "5        0  "
      ]
     },
     "execution_count": 41,
     "metadata": {},
     "output_type": "execute_result"
    }
   ],
   "source": [
    "#convert due_date and effective_date columns to datetime\n",
    "test_df['due_date'] = pd.to_datetime(test_df['due_date'])\n",
    "test_df['effective_date'] = pd.to_datetime(test_df['effective_date'])\n",
    "\n",
    "#dayofweek\n",
    "test_df['dayofweek'] = test_df['effective_date'].dt.dayofweek\n",
    "\n",
    "# evaulate weekend field\n",
    "test_df['weekend'] = test_df['dayofweek'].apply(lambda x: 1 if (x>3)  else 0)\n",
    "\n",
    "#convert Gender field, male=0 and female=1 to binary\n",
    "test_df['Gender'].replace(to_replace=['male','female'], value=[0,1], inplace=True)\n",
    "\n",
    "test_df.head()\n",
    "\n",
    "#work out education level\n",
    "test_feature = test_df[['Principal', 'terms', 'age', 'Gender', 'weekend']]\n",
    "test_feature = pd.concat([test_feature,pd.get_dummies(test_df['education'])], axis=1)\n",
    "test_feature.drop(['Master or Above'], axis=1, inplace=True)\n",
    "test_feature.head(6)\n"
   ]
  },
  {
   "cell_type": "code",
   "execution_count": 42,
   "metadata": {},
   "outputs": [
    {
     "data": {
      "text/plain": [
       "array(['PAIDOFF', 'PAIDOFF', 'PAIDOFF', 'PAIDOFF', 'PAIDOFF'],\n",
       "      dtype=object)"
      ]
     },
     "execution_count": 42,
     "metadata": {},
     "output_type": "execute_result"
    }
   ],
   "source": [
    "#feature selection\n",
    "test_X = test_feature\n",
    "test_X[0:5]\n",
    "\n",
    "#normalisation\n",
    "test_X = preprocessing.StandardScaler().fit(test_X).transform(test_X)\n",
    "test_X\n",
    "\n",
    "# target result\n",
    "test_y = test_df['loan_status'].values\n",
    "test_y[0:5]"
   ]
  },
  {
   "cell_type": "code",
   "execution_count": 47,
   "metadata": {},
   "outputs": [
    {
     "data": {
      "text/html": [
       "<div>\n",
       "<style scoped>\n",
       "    .dataframe tbody tr th:only-of-type {\n",
       "        vertical-align: middle;\n",
       "    }\n",
       "\n",
       "    .dataframe tbody tr th {\n",
       "        vertical-align: top;\n",
       "    }\n",
       "\n",
       "    .dataframe thead th {\n",
       "        text-align: right;\n",
       "    }\n",
       "</style>\n",
       "<table border=\"1\" class=\"dataframe\">\n",
       "  <thead>\n",
       "    <tr style=\"text-align: right;\">\n",
       "      <th>Algorithm</th>\n",
       "      <th>Jaccard</th>\n",
       "      <th>F1-score</th>\n",
       "      <th>LogLoss</th>\n",
       "    </tr>\n",
       "  </thead>\n",
       "  <tbody>\n",
       "    <tr>\n",
       "      <th>KNN</th>\n",
       "      <td>0.666667</td>\n",
       "      <td>0.632840</td>\n",
       "      <td>NA</td>\n",
       "    </tr>\n",
       "    <tr>\n",
       "      <th>Decision Tree</th>\n",
       "      <td>0.740741</td>\n",
       "      <td>0.630418</td>\n",
       "      <td>NA</td>\n",
       "    </tr>\n",
       "    <tr>\n",
       "      <th>SVM</th>\n",
       "      <td>0.796296</td>\n",
       "      <td>0.758350</td>\n",
       "      <td>NA</td>\n",
       "    </tr>\n",
       "    <tr>\n",
       "      <th>Logistic Regression</th>\n",
       "      <td>0.740741</td>\n",
       "      <td>0.660427</td>\n",
       "      <td>0.567215</td>\n",
       "    </tr>\n",
       "  </tbody>\n",
       "</table>\n",
       "</div>"
      ],
      "text/plain": [
       "Algorithm             Jaccard  F1-score   LogLoss\n",
       "KNN                  0.666667  0.632840        NA\n",
       "Decision Tree        0.740741  0.630418        NA\n",
       "SVM                  0.796296  0.758350        NA\n",
       "Logistic Regression  0.740741  0.660427  0.567215"
      ]
     },
     "execution_count": 47,
     "metadata": {},
     "output_type": "execute_result"
    }
   ],
   "source": [
    "#Evaluation using all models that we built\n",
    "\n",
    "yhat_neigh = neigh.predict(test_X)\n",
    "jc1=jaccard_similarity_score(test_y, yhat_neigh)\n",
    "fs1=f1_score(test_y, yhat_neigh, average='weighted')\n",
    "\n",
    "yhat_tree = loanTree.predict(test_X)\n",
    "jc2=jaccard_similarity_score(test_y, yhat_tree)\n",
    "fs2=f1_score(test_y, yhat_tree, average='weighted')\n",
    "\n",
    "yhat_svm = clf.predict(test_X)\n",
    "jc3=jaccard_similarity_score(test_y, yhat_svm)\n",
    "fs3=f1_score(test_y, yhat_svm, average='weighted')\n",
    "\n",
    "yhat_logReg = LR.predict(test_X)\n",
    "yhat_prob = LR.predict_proba(test_X)\n",
    "jc4=jaccard_similarity_score(test_y, yhat_logReg)\n",
    "fs4=f1_score(test_y, yhat_logReg, average='weighted')\n",
    "logloss = log_loss(test_y, yhat_prob)\n",
    "\n",
    "#create list of all the scores\n",
    "list_jc = [jc1, jc2, jc3, jc4]\n",
    "list_fs = [fs1, fs2, fs3, fs4]\n",
    "list_log = ['NA', 'NA', 'NA', logloss]\n",
    "\n",
    "#formulate report format\n",
    "#import pandas as pd\n",
    "report_df = pd.DataFrame(list_jc, index=['KNN','Decision Tree','SVM','Logistic Regression'])\n",
    "report_df.columns = ['Jaccard']\n",
    "report_df.insert(loc=1, column='F1-score', value=list_fs)\n",
    "report_df.insert(loc=2, column='LogLoss', value=list_log)\n",
    "report_df.columns.name = 'Algorithm'\n",
    "report_df\n"
   ]
  },
  {
   "cell_type": "markdown",
   "metadata": {},
   "source": [
    "# Report\n",
    "\n",
    "You should be able to report the accuracy of the built model using different evaluation metrics:\n"
   ]
  },
  {
   "cell_type": "markdown",
   "metadata": {},
   "source": [
    "| Algorithm          | Jaccard | F1-score | LogLoss |\n",
    "| ------------------ | ------- | -------- | ------- |\n",
    "| KNN                | ?       | ?        | NA      |\n",
    "| Decision Tree      | ?       | ?        | NA      |\n",
    "| SVM                | ?       | ?        | NA      |\n",
    "| LogisticRegression | ?       | ?        | ?       |\n"
   ]
  }
 
